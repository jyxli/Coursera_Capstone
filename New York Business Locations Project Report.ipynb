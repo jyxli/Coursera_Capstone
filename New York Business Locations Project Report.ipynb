{
    "cells": [
        {
            "cell_type": "markdown",
            "metadata": {
                "collapsed": true
            },
            "source": "# New York Business Opportunities by Location Project Report"
        },
        {
            "cell_type": "markdown",
            "metadata": {},
            "source": " ### Introduction"
        },
        {
            "cell_type": "markdown",
            "metadata": {},
            "source": "With this project, we aim to analyze New York City data to determine which locations are hotspots for commercial business. We will first look at the most popular types of businesses in New York based on check-in data, then using that data, we will determine which neighbourhoods are lacking those businesses to deduce the potential business opportunities. This type of data analysis has been chosen to be conducted because it targets to aid those who wish to open a business, but may not know which areas are suitable for business or which type of businesses are needed."
        },
        {
            "cell_type": "markdown",
            "metadata": {},
            "source": "### Data"
        },
        {
            "cell_type": "markdown",
            "metadata": {},
            "source": "The data is provided by Dingqi Yang on https://sites.google.com/site/yangdingqi/home/foursquare-dataset. This dataset describes the check-in and tag data of restaurant venues in New York City. The data was collected from Foursquare from October 24th, 2011 to February 20th 2012 and includes 3112 users and 3298 venues with 27149 check-ins."
        },
        {
            "cell_type": "code",
            "execution_count": null,
            "metadata": {},
            "outputs": [],
            "source": ""
        }
    ],
    "metadata": {
        "kernelspec": {
            "display_name": "Python 3.6",
            "language": "python",
            "name": "python3"
        },
        "language_info": {
            "codemirror_mode": {
                "name": "ipython",
                "version": 3
            },
            "file_extension": ".py",
            "mimetype": "text/x-python",
            "name": "python",
            "nbconvert_exporter": "python",
            "pygments_lexer": "ipython3",
            "version": "3.6.9"
        }
    },
    "nbformat": 4,
    "nbformat_minor": 1
}