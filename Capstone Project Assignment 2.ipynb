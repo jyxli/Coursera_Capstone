{
    "cells": [
        {
            "cell_type": "markdown",
            "metadata": {
                "collapsed": true
            },
            "source": "# Capstone Project 2\n\n## Janet Li"
        },
        {
            "cell_type": "markdown",
            "metadata": {},
            "source": "### Part 1"
        },
        {
            "cell_type": "markdown",
            "metadata": {},
            "source": "##### Importing the data"
        },
        {
            "cell_type": "code",
            "execution_count": 6,
            "metadata": {},
            "outputs": [],
            "source": "import pandas as pd\nimport requests\nfrom bs4 import BeautifulSoup #nolongersupporteddec2020"
        },
        {
            "cell_type": "code",
            "execution_count": 9,
            "metadata": {},
            "outputs": [],
            "source": "url = \"https://en.wikipedia.org/wiki/List_of_postal_codes_of_Canada:_M\"\nextracted_data = requests.get(url).text\nwiki_data = BeautifulSoup(extracted_data)"
        },
        {
            "cell_type": "code",
            "execution_count": 10,
            "metadata": {},
            "outputs": [],
            "source": "column_name = ['PostalCode','Borough','Neighborhood']\ntoronto = pd.DataFrame(columns = column_name)"
        },
        {
            "cell_type": "code",
            "execution_count": 15,
            "metadata": {},
            "outputs": [],
            "source": "content = wiki_data.find('div', class_='mw-parser-output')\ntable = content.table.tbody\npostcode = 0\nborough = 0\nneighborhood = 0\n\nfor tr in table.find_all('tr'):\n    i = 0\n    for td in tr.find_all('td'):\n        if i == 0:\n            postcode = td.text\n            i = i + 1\n        elif i == 1:\n            borough = td.text\n            i = i + 1\n        elif i == 2: \n            neighborhood = td.text.strip('\\n').replace(']','')\n    toronto = toronto.append({'PostalCode': postcode,'Borough': borough,'Neighborhood': neighborhood},ignore_index=True)"
        },
        {
            "cell_type": "markdown",
            "metadata": {},
            "source": "###### Cleaning the Dataframe"
        },
        {
            "cell_type": "code",
            "execution_count": 16,
            "metadata": {},
            "outputs": [],
            "source": "toronto = toronto[toronto.Borough!='Not assigned\\n']\ntoronto = toronto[toronto.Borough!= 0]\ntoronto.reset_index(drop = True, inplace = True)\ni = 0\nfor i in range(0,toronto.shape[0]):\n    if toronto.iloc[i][2] == 'Not assigned\\n':\n        toronto.iloc[i][2] = toronto.iloc[i][1]\n        i = i+1"
        },
        {
            "cell_type": "code",
            "execution_count": 17,
            "metadata": {},
            "outputs": [
                {
                    "data": {
                        "text/html": "<div>\n<style scoped>\n    .dataframe tbody tr th:only-of-type {\n        vertical-align: middle;\n    }\n\n    .dataframe tbody tr th {\n        vertical-align: top;\n    }\n\n    .dataframe thead th {\n        text-align: right;\n    }\n</style>\n<table border=\"1\" class=\"dataframe\">\n  <thead>\n    <tr style=\"text-align: right;\">\n      <th></th>\n      <th>PostalCode</th>\n      <th>Borough</th>\n      <th>Neighborhood</th>\n    </tr>\n  </thead>\n  <tbody>\n    <tr>\n      <th>0</th>\n      <td>M1B\\n</td>\n      <td>Scarborough\\n</td>\n      <td>Malvern, Rouge, Malvern, Rouge, Malvern, Rouge...</td>\n    </tr>\n    <tr>\n      <th>1</th>\n      <td>M1C\\n</td>\n      <td>Scarborough\\n</td>\n      <td>Rouge Hill, Port Union, Highland Creek, Rouge ...</td>\n    </tr>\n    <tr>\n      <th>2</th>\n      <td>M1E\\n</td>\n      <td>Scarborough\\n</td>\n      <td>Guildwood, Morningside, West Hill, Guildwood, ...</td>\n    </tr>\n    <tr>\n      <th>3</th>\n      <td>M1G\\n</td>\n      <td>Scarborough\\n</td>\n      <td>Woburn, Woburn, Woburn, Woburn, Woburn</td>\n    </tr>\n    <tr>\n      <th>4</th>\n      <td>M1H\\n</td>\n      <td>Scarborough\\n</td>\n      <td>Cedarbrae, Cedarbrae, Cedarbrae, Cedarbrae, Ce...</td>\n    </tr>\n    <tr>\n      <th>5</th>\n      <td>M1J\\n</td>\n      <td>Scarborough\\n</td>\n      <td>Scarborough Village, Scarborough Village, Scar...</td>\n    </tr>\n    <tr>\n      <th>6</th>\n      <td>M1K\\n</td>\n      <td>Scarborough\\n</td>\n      <td>Kennedy Park, Ionview, East Birchmount Park, K...</td>\n    </tr>\n    <tr>\n      <th>7</th>\n      <td>M1L\\n</td>\n      <td>Scarborough\\n</td>\n      <td>Golden Mile, Clairlea, Oakridge, Golden Mile, ...</td>\n    </tr>\n    <tr>\n      <th>8</th>\n      <td>M1M\\n</td>\n      <td>Scarborough\\n</td>\n      <td>Cliffside, Cliffcrest, Scarborough Village Wes...</td>\n    </tr>\n    <tr>\n      <th>9</th>\n      <td>M1N\\n</td>\n      <td>Scarborough\\n</td>\n      <td>Birch Cliff, Cliffside West, Birch Cliff, Clif...</td>\n    </tr>\n    <tr>\n      <th>10</th>\n      <td>M1P\\n</td>\n      <td>Scarborough\\n</td>\n      <td>Dorset Park, Wexford Heights, Scarborough Town...</td>\n    </tr>\n    <tr>\n      <th>11</th>\n      <td>M1R\\n</td>\n      <td>Scarborough\\n</td>\n      <td>Wexford, Maryvale, Wexford, Maryvale, Wexford,...</td>\n    </tr>\n    <tr>\n      <th>12</th>\n      <td>M1S\\n</td>\n      <td>Scarborough\\n</td>\n      <td>Agincourt, Agincourt, Agincourt, Agincourt, Ag...</td>\n    </tr>\n    <tr>\n      <th>13</th>\n      <td>M1T\\n</td>\n      <td>Scarborough\\n</td>\n      <td>Clarks Corners, Tam O'Shanter, Sullivan, Clark...</td>\n    </tr>\n    <tr>\n      <th>14</th>\n      <td>M1V\\n</td>\n      <td>Scarborough\\n</td>\n      <td>Milliken, Agincourt North, Steeles East, L'Amo...</td>\n    </tr>\n    <tr>\n      <th>15</th>\n      <td>M1W\\n</td>\n      <td>Scarborough\\n</td>\n      <td>Steeles West, L'Amoreaux West, Steeles West, L...</td>\n    </tr>\n    <tr>\n      <th>16</th>\n      <td>M1X\\n</td>\n      <td>Scarborough\\n</td>\n      <td>Upper Rouge, Upper Rouge, Upper Rouge, Upper R...</td>\n    </tr>\n    <tr>\n      <th>17</th>\n      <td>M2H\\n</td>\n      <td>North York\\n</td>\n      <td>Hillcrest Village, Hillcrest Village, Hillcres...</td>\n    </tr>\n    <tr>\n      <th>18</th>\n      <td>M2J\\n</td>\n      <td>North York\\n</td>\n      <td>Fairview, Henry Farm, Oriole, Fairview, Henry ...</td>\n    </tr>\n    <tr>\n      <th>19</th>\n      <td>M2K\\n</td>\n      <td>North York\\n</td>\n      <td>Bayview Village, Bayview Village, Bayview Vill...</td>\n    </tr>\n    <tr>\n      <th>20</th>\n      <td>M2L\\n</td>\n      <td>North York\\n</td>\n      <td>York Mills, Silver Hills, York Mills, Silver H...</td>\n    </tr>\n    <tr>\n      <th>21</th>\n      <td>M2M\\n</td>\n      <td>North York\\n</td>\n      <td>Willowdale, Newtonbrook, Willowdale, Newtonbro...</td>\n    </tr>\n    <tr>\n      <th>22</th>\n      <td>M2N\\n</td>\n      <td>North York\\n</td>\n      <td>Willowdale, Willowdale East, Willowdale, Willo...</td>\n    </tr>\n    <tr>\n      <th>23</th>\n      <td>M2P\\n</td>\n      <td>North York\\n</td>\n      <td>York Mills West, York Mills West, York Mills W...</td>\n    </tr>\n    <tr>\n      <th>24</th>\n      <td>M2R\\n</td>\n      <td>North York\\n</td>\n      <td>Willowdale, Willowdale West, Willowdale, Willo...</td>\n    </tr>\n    <tr>\n      <th>25</th>\n      <td>M3A\\n</td>\n      <td>North York\\n</td>\n      <td>Parkwoods, Parkwoods, Parkwoods, Parkwoods, Pa...</td>\n    </tr>\n    <tr>\n      <th>26</th>\n      <td>M3B\\n</td>\n      <td>North York\\n</td>\n      <td>Don Mills, Don Mills, Don Mills, Don Mills, Do...</td>\n    </tr>\n    <tr>\n      <th>27</th>\n      <td>M3C\\n</td>\n      <td>North York\\n</td>\n      <td>Don Mills, Don Mills, Don Mills, Don Mills, Do...</td>\n    </tr>\n    <tr>\n      <th>28</th>\n      <td>M3H\\n</td>\n      <td>North York\\n</td>\n      <td>Bathurst Manor, Wilson Heights, Downsview Nort...</td>\n    </tr>\n    <tr>\n      <th>29</th>\n      <td>M3J\\n</td>\n      <td>North York\\n</td>\n      <td>Northwood Park, York University, Northwood Par...</td>\n    </tr>\n    <tr>\n      <th>...</th>\n      <td>...</td>\n      <td>...</td>\n      <td>...</td>\n    </tr>\n    <tr>\n      <th>73</th>\n      <td>M6C\\n</td>\n      <td>York\\n</td>\n      <td>Humewood-Cedarvale, Humewood-Cedarvale, Humewo...</td>\n    </tr>\n    <tr>\n      <th>74</th>\n      <td>M6E\\n</td>\n      <td>York\\n</td>\n      <td>Caledonia-Fairbanks, Caledonia-Fairbanks, Cale...</td>\n    </tr>\n    <tr>\n      <th>75</th>\n      <td>M6G\\n</td>\n      <td>Downtown Toronto\\n</td>\n      <td>Christie, Christie, Christie, Christie, Christie</td>\n    </tr>\n    <tr>\n      <th>76</th>\n      <td>M6H\\n</td>\n      <td>West Toronto\\n</td>\n      <td>Dufferin, Dovercourt Village, Dufferin, Doverc...</td>\n    </tr>\n    <tr>\n      <th>77</th>\n      <td>M6J\\n</td>\n      <td>West Toronto\\n</td>\n      <td>Little Portugal, Trinity, Little Portugal, Tri...</td>\n    </tr>\n    <tr>\n      <th>78</th>\n      <td>M6K\\n</td>\n      <td>West Toronto\\n</td>\n      <td>Brockton, Parkdale Village, Exhibition Place, ...</td>\n    </tr>\n    <tr>\n      <th>79</th>\n      <td>M6L\\n</td>\n      <td>North York\\n</td>\n      <td>North Park, Maple Leaf Park, Upwood Park, Nort...</td>\n    </tr>\n    <tr>\n      <th>80</th>\n      <td>M6M\\n</td>\n      <td>York\\n</td>\n      <td>Del Ray, Mount Dennis, Keelsdale and Silvertho...</td>\n    </tr>\n    <tr>\n      <th>81</th>\n      <td>M6N\\n</td>\n      <td>York\\n</td>\n      <td>Runnymede, The Junction North, Runnymede, The ...</td>\n    </tr>\n    <tr>\n      <th>82</th>\n      <td>M6P\\n</td>\n      <td>West Toronto\\n</td>\n      <td>High Park, The Junction South, High Park, The ...</td>\n    </tr>\n    <tr>\n      <th>83</th>\n      <td>M6R\\n</td>\n      <td>West Toronto\\n</td>\n      <td>Parkdale, Roncesvalles, Parkdale, Roncesvalles...</td>\n    </tr>\n    <tr>\n      <th>84</th>\n      <td>M6S\\n</td>\n      <td>West Toronto\\n</td>\n      <td>Runnymede, Swansea, Runnymede, Swansea, Runnym...</td>\n    </tr>\n    <tr>\n      <th>85</th>\n      <td>M7A\\n</td>\n      <td>Downtown Toronto\\n</td>\n      <td>Queen's Park, Ontario Provincial Government, Q...</td>\n    </tr>\n    <tr>\n      <th>86</th>\n      <td>M7R\\n</td>\n      <td>Mississauga\\n</td>\n      <td>Canada Post Gateway Processing Centre, Canada ...</td>\n    </tr>\n    <tr>\n      <th>87</th>\n      <td>M7Y\\n</td>\n      <td>East Toronto\\n</td>\n      <td>Business reply mail Processing Centre, South C...</td>\n    </tr>\n    <tr>\n      <th>88</th>\n      <td>M8V\\n</td>\n      <td>Etobicoke\\n</td>\n      <td>New Toronto, Mimico South, Humber Bay Shores, ...</td>\n    </tr>\n    <tr>\n      <th>89</th>\n      <td>M8W\\n</td>\n      <td>Etobicoke\\n</td>\n      <td>Alderwood, Long Branch, Alderwood, Long Branch...</td>\n    </tr>\n    <tr>\n      <th>90</th>\n      <td>M8X\\n</td>\n      <td>Etobicoke\\n</td>\n      <td>The Kingsway, Montgomery Road, Old Mill North,...</td>\n    </tr>\n    <tr>\n      <th>91</th>\n      <td>M8Y\\n</td>\n      <td>Etobicoke\\n</td>\n      <td>Old Mill South, King's Mill Park, Sunnylea, Hu...</td>\n    </tr>\n    <tr>\n      <th>92</th>\n      <td>M8Z\\n</td>\n      <td>Etobicoke\\n</td>\n      <td>Mimico NW, The Queensway West, South of Bloor,...</td>\n    </tr>\n    <tr>\n      <th>93</th>\n      <td>M9A\\n</td>\n      <td>Etobicoke\\n</td>\n      <td>Islington Avenue, Humber Valley Village, Islin...</td>\n    </tr>\n    <tr>\n      <th>94</th>\n      <td>M9B\\n</td>\n      <td>Etobicoke\\n</td>\n      <td>West Deane Park, Princess Gardens, Martin Grov...</td>\n    </tr>\n    <tr>\n      <th>95</th>\n      <td>M9C\\n</td>\n      <td>Etobicoke\\n</td>\n      <td>Eringate, Bloordale Gardens, Old Burnhamthorpe...</td>\n    </tr>\n    <tr>\n      <th>96</th>\n      <td>M9L\\n</td>\n      <td>North York\\n</td>\n      <td>Humber Summit, Humber Summit, Humber Summit, H...</td>\n    </tr>\n    <tr>\n      <th>97</th>\n      <td>M9M\\n</td>\n      <td>North York\\n</td>\n      <td>Humberlea, Emery, Humberlea, Emery, Humberlea,...</td>\n    </tr>\n    <tr>\n      <th>98</th>\n      <td>M9N\\n</td>\n      <td>York\\n</td>\n      <td>Weston, Weston, Weston, Weston, Weston</td>\n    </tr>\n    <tr>\n      <th>99</th>\n      <td>M9P\\n</td>\n      <td>Etobicoke\\n</td>\n      <td>Westmount, Westmount, Westmount, Westmount, We...</td>\n    </tr>\n    <tr>\n      <th>100</th>\n      <td>M9R\\n</td>\n      <td>Etobicoke\\n</td>\n      <td>Kingsview Village, St. Phillips, Martin Grove ...</td>\n    </tr>\n    <tr>\n      <th>101</th>\n      <td>M9V\\n</td>\n      <td>Etobicoke\\n</td>\n      <td>South Steeles, Silverstone, Humbergate, Jamest...</td>\n    </tr>\n    <tr>\n      <th>102</th>\n      <td>M9W\\n</td>\n      <td>Etobicoke\\n</td>\n      <td>Northwest, West Humber - Clairville, Northwest...</td>\n    </tr>\n  </tbody>\n</table>\n<p>103 rows \u00d7 3 columns</p>\n</div>",
                        "text/plain": "    PostalCode             Borough  \\\n0        M1B\\n       Scarborough\\n   \n1        M1C\\n       Scarborough\\n   \n2        M1E\\n       Scarborough\\n   \n3        M1G\\n       Scarborough\\n   \n4        M1H\\n       Scarborough\\n   \n5        M1J\\n       Scarborough\\n   \n6        M1K\\n       Scarborough\\n   \n7        M1L\\n       Scarborough\\n   \n8        M1M\\n       Scarborough\\n   \n9        M1N\\n       Scarborough\\n   \n10       M1P\\n       Scarborough\\n   \n11       M1R\\n       Scarborough\\n   \n12       M1S\\n       Scarborough\\n   \n13       M1T\\n       Scarborough\\n   \n14       M1V\\n       Scarborough\\n   \n15       M1W\\n       Scarborough\\n   \n16       M1X\\n       Scarborough\\n   \n17       M2H\\n        North York\\n   \n18       M2J\\n        North York\\n   \n19       M2K\\n        North York\\n   \n20       M2L\\n        North York\\n   \n21       M2M\\n        North York\\n   \n22       M2N\\n        North York\\n   \n23       M2P\\n        North York\\n   \n24       M2R\\n        North York\\n   \n25       M3A\\n        North York\\n   \n26       M3B\\n        North York\\n   \n27       M3C\\n        North York\\n   \n28       M3H\\n        North York\\n   \n29       M3J\\n        North York\\n   \n..         ...                 ...   \n73       M6C\\n              York\\n   \n74       M6E\\n              York\\n   \n75       M6G\\n  Downtown Toronto\\n   \n76       M6H\\n      West Toronto\\n   \n77       M6J\\n      West Toronto\\n   \n78       M6K\\n      West Toronto\\n   \n79       M6L\\n        North York\\n   \n80       M6M\\n              York\\n   \n81       M6N\\n              York\\n   \n82       M6P\\n      West Toronto\\n   \n83       M6R\\n      West Toronto\\n   \n84       M6S\\n      West Toronto\\n   \n85       M7A\\n  Downtown Toronto\\n   \n86       M7R\\n       Mississauga\\n   \n87       M7Y\\n      East Toronto\\n   \n88       M8V\\n         Etobicoke\\n   \n89       M8W\\n         Etobicoke\\n   \n90       M8X\\n         Etobicoke\\n   \n91       M8Y\\n         Etobicoke\\n   \n92       M8Z\\n         Etobicoke\\n   \n93       M9A\\n         Etobicoke\\n   \n94       M9B\\n         Etobicoke\\n   \n95       M9C\\n         Etobicoke\\n   \n96       M9L\\n        North York\\n   \n97       M9M\\n        North York\\n   \n98       M9N\\n              York\\n   \n99       M9P\\n         Etobicoke\\n   \n100      M9R\\n         Etobicoke\\n   \n101      M9V\\n         Etobicoke\\n   \n102      M9W\\n         Etobicoke\\n   \n\n                                          Neighborhood  \n0    Malvern, Rouge, Malvern, Rouge, Malvern, Rouge...  \n1    Rouge Hill, Port Union, Highland Creek, Rouge ...  \n2    Guildwood, Morningside, West Hill, Guildwood, ...  \n3               Woburn, Woburn, Woburn, Woburn, Woburn  \n4    Cedarbrae, Cedarbrae, Cedarbrae, Cedarbrae, Ce...  \n5    Scarborough Village, Scarborough Village, Scar...  \n6    Kennedy Park, Ionview, East Birchmount Park, K...  \n7    Golden Mile, Clairlea, Oakridge, Golden Mile, ...  \n8    Cliffside, Cliffcrest, Scarborough Village Wes...  \n9    Birch Cliff, Cliffside West, Birch Cliff, Clif...  \n10   Dorset Park, Wexford Heights, Scarborough Town...  \n11   Wexford, Maryvale, Wexford, Maryvale, Wexford,...  \n12   Agincourt, Agincourt, Agincourt, Agincourt, Ag...  \n13   Clarks Corners, Tam O'Shanter, Sullivan, Clark...  \n14   Milliken, Agincourt North, Steeles East, L'Amo...  \n15   Steeles West, L'Amoreaux West, Steeles West, L...  \n16   Upper Rouge, Upper Rouge, Upper Rouge, Upper R...  \n17   Hillcrest Village, Hillcrest Village, Hillcres...  \n18   Fairview, Henry Farm, Oriole, Fairview, Henry ...  \n19   Bayview Village, Bayview Village, Bayview Vill...  \n20   York Mills, Silver Hills, York Mills, Silver H...  \n21   Willowdale, Newtonbrook, Willowdale, Newtonbro...  \n22   Willowdale, Willowdale East, Willowdale, Willo...  \n23   York Mills West, York Mills West, York Mills W...  \n24   Willowdale, Willowdale West, Willowdale, Willo...  \n25   Parkwoods, Parkwoods, Parkwoods, Parkwoods, Pa...  \n26   Don Mills, Don Mills, Don Mills, Don Mills, Do...  \n27   Don Mills, Don Mills, Don Mills, Don Mills, Do...  \n28   Bathurst Manor, Wilson Heights, Downsview Nort...  \n29   Northwood Park, York University, Northwood Par...  \n..                                                 ...  \n73   Humewood-Cedarvale, Humewood-Cedarvale, Humewo...  \n74   Caledonia-Fairbanks, Caledonia-Fairbanks, Cale...  \n75    Christie, Christie, Christie, Christie, Christie  \n76   Dufferin, Dovercourt Village, Dufferin, Doverc...  \n77   Little Portugal, Trinity, Little Portugal, Tri...  \n78   Brockton, Parkdale Village, Exhibition Place, ...  \n79   North Park, Maple Leaf Park, Upwood Park, Nort...  \n80   Del Ray, Mount Dennis, Keelsdale and Silvertho...  \n81   Runnymede, The Junction North, Runnymede, The ...  \n82   High Park, The Junction South, High Park, The ...  \n83   Parkdale, Roncesvalles, Parkdale, Roncesvalles...  \n84   Runnymede, Swansea, Runnymede, Swansea, Runnym...  \n85   Queen's Park, Ontario Provincial Government, Q...  \n86   Canada Post Gateway Processing Centre, Canada ...  \n87   Business reply mail Processing Centre, South C...  \n88   New Toronto, Mimico South, Humber Bay Shores, ...  \n89   Alderwood, Long Branch, Alderwood, Long Branch...  \n90   The Kingsway, Montgomery Road, Old Mill North,...  \n91   Old Mill South, King's Mill Park, Sunnylea, Hu...  \n92   Mimico NW, The Queensway West, South of Bloor,...  \n93   Islington Avenue, Humber Valley Village, Islin...  \n94   West Deane Park, Princess Gardens, Martin Grov...  \n95   Eringate, Bloordale Gardens, Old Burnhamthorpe...  \n96   Humber Summit, Humber Summit, Humber Summit, H...  \n97   Humberlea, Emery, Humberlea, Emery, Humberlea,...  \n98              Weston, Weston, Weston, Weston, Weston  \n99   Westmount, Westmount, Westmount, Westmount, We...  \n100  Kingsview Village, St. Phillips, Martin Grove ...  \n101  South Steeles, Silverstone, Humbergate, Jamest...  \n102  Northwest, West Humber - Clairville, Northwest...  \n\n[103 rows x 3 columns]"
                    },
                    "execution_count": 17,
                    "metadata": {},
                    "output_type": "execute_result"
                }
            ],
            "source": "df = toronto.groupby(['PostalCode','Borough'])['Neighborhood'].apply(', '.join).reset_index()\ndf"
        },
        {
            "cell_type": "code",
            "execution_count": 18,
            "metadata": {},
            "outputs": [
                {
                    "data": {
                        "text/html": "<div>\n<style scoped>\n    .dataframe tbody tr th:only-of-type {\n        vertical-align: middle;\n    }\n\n    .dataframe tbody tr th {\n        vertical-align: top;\n    }\n\n    .dataframe thead th {\n        text-align: right;\n    }\n</style>\n<table border=\"1\" class=\"dataframe\">\n  <thead>\n    <tr style=\"text-align: right;\">\n      <th></th>\n      <th>PostalCode</th>\n      <th>Borough</th>\n      <th>Neighborhood</th>\n    </tr>\n  </thead>\n  <tbody>\n    <tr>\n      <th>count</th>\n      <td>103</td>\n      <td>103</td>\n      <td>103</td>\n    </tr>\n    <tr>\n      <th>unique</th>\n      <td>103</td>\n      <td>10</td>\n      <td>99</td>\n    </tr>\n    <tr>\n      <th>top</th>\n      <td>M6G\\n</td>\n      <td>North York\\n</td>\n      <td>Downsview, Downsview, Downsview, Downsview, Do...</td>\n    </tr>\n    <tr>\n      <th>freq</th>\n      <td>1</td>\n      <td>24</td>\n      <td>4</td>\n    </tr>\n  </tbody>\n</table>\n</div>",
                        "text/plain": "       PostalCode       Borough  \\\ncount         103           103   \nunique        103            10   \ntop         M6G\\n  North York\\n   \nfreq            1            24   \n\n                                             Neighborhood  \ncount                                                 103  \nunique                                                 99  \ntop     Downsview, Downsview, Downsview, Downsview, Do...  \nfreq                                                    4  "
                    },
                    "execution_count": 18,
                    "metadata": {},
                    "output_type": "execute_result"
                }
            ],
            "source": "df.describe()"
        },
        {
            "cell_type": "code",
            "execution_count": 21,
            "metadata": {},
            "outputs": [],
            "source": "df = df.dropna()\nempty = 'Not assigned\\n'\ndf = df[(df.PostalCode != empty ) & (df.Borough != empty) & (df.Neighborhood != empty)]"
        },
        {
            "cell_type": "code",
            "execution_count": 22,
            "metadata": {},
            "outputs": [
                {
                    "data": {
                        "text/html": "<div>\n<style scoped>\n    .dataframe tbody tr th:only-of-type {\n        vertical-align: middle;\n    }\n\n    .dataframe tbody tr th {\n        vertical-align: top;\n    }\n\n    .dataframe thead th {\n        text-align: right;\n    }\n</style>\n<table border=\"1\" class=\"dataframe\">\n  <thead>\n    <tr style=\"text-align: right;\">\n      <th></th>\n      <th>PostalCode</th>\n      <th>Borough</th>\n      <th>Neighborhood</th>\n    </tr>\n  </thead>\n  <tbody>\n    <tr>\n      <th>0</th>\n      <td>M1B\\n</td>\n      <td>Scarborough\\n</td>\n      <td>Malvern, Rouge, Malvern, Rouge, Malvern, Rouge...</td>\n    </tr>\n    <tr>\n      <th>1</th>\n      <td>M1C\\n</td>\n      <td>Scarborough\\n</td>\n      <td>Rouge Hill, Port Union, Highland Creek, Rouge ...</td>\n    </tr>\n    <tr>\n      <th>2</th>\n      <td>M1E\\n</td>\n      <td>Scarborough\\n</td>\n      <td>Guildwood, Morningside, West Hill, Guildwood, ...</td>\n    </tr>\n    <tr>\n      <th>3</th>\n      <td>M1G\\n</td>\n      <td>Scarborough\\n</td>\n      <td>Woburn, Woburn, Woburn, Woburn, Woburn</td>\n    </tr>\n    <tr>\n      <th>4</th>\n      <td>M1H\\n</td>\n      <td>Scarborough\\n</td>\n      <td>Cedarbrae, Cedarbrae, Cedarbrae, Cedarbrae, Ce...</td>\n    </tr>\n  </tbody>\n</table>\n</div>",
                        "text/plain": "  PostalCode        Borough                                       Neighborhood\n0      M1B\\n  Scarborough\\n  Malvern, Rouge, Malvern, Rouge, Malvern, Rouge...\n1      M1C\\n  Scarborough\\n  Rouge Hill, Port Union, Highland Creek, Rouge ...\n2      M1E\\n  Scarborough\\n  Guildwood, Morningside, West Hill, Guildwood, ...\n3      M1G\\n  Scarborough\\n             Woburn, Woburn, Woburn, Woburn, Woburn\n4      M1H\\n  Scarborough\\n  Cedarbrae, Cedarbrae, Cedarbrae, Cedarbrae, Ce..."
                    },
                    "execution_count": 22,
                    "metadata": {},
                    "output_type": "execute_result"
                }
            ],
            "source": "df.head()"
        },
        {
            "cell_type": "code",
            "execution_count": 23,
            "metadata": {},
            "outputs": [],
            "source": "def neighborhood_list(grouped):    \n    return ', '.join(sorted(grouped['Neighborhood'].tolist()))\n                    \ngrp = df.groupby(['PostalCode', 'Borough'])\ndf2 = grp.apply(neighborhood_list).reset_index(name='Neighborhood')"
        },
        {
            "cell_type": "code",
            "execution_count": 25,
            "metadata": {
                "scrolled": true
            },
            "outputs": [
                {
                    "name": "stdout",
                    "output_type": "stream",
                    "text": "(103, 3)\n"
                },
                {
                    "data": {
                        "text/html": "<div>\n<style scoped>\n    .dataframe tbody tr th:only-of-type {\n        vertical-align: middle;\n    }\n\n    .dataframe tbody tr th {\n        vertical-align: top;\n    }\n\n    .dataframe thead th {\n        text-align: right;\n    }\n</style>\n<table border=\"1\" class=\"dataframe\">\n  <thead>\n    <tr style=\"text-align: right;\">\n      <th></th>\n      <th>PostalCode</th>\n      <th>Borough</th>\n      <th>Neighborhood</th>\n    </tr>\n  </thead>\n  <tbody>\n    <tr>\n      <th>0</th>\n      <td>M1B\\n</td>\n      <td>Scarborough\\n</td>\n      <td>Malvern, Rouge, Malvern, Rouge, Malvern, Rouge...</td>\n    </tr>\n    <tr>\n      <th>1</th>\n      <td>M1C\\n</td>\n      <td>Scarborough\\n</td>\n      <td>Rouge Hill, Port Union, Highland Creek, Rouge ...</td>\n    </tr>\n    <tr>\n      <th>2</th>\n      <td>M1E\\n</td>\n      <td>Scarborough\\n</td>\n      <td>Guildwood, Morningside, West Hill, Guildwood, ...</td>\n    </tr>\n    <tr>\n      <th>3</th>\n      <td>M1G\\n</td>\n      <td>Scarborough\\n</td>\n      <td>Woburn, Woburn, Woburn, Woburn, Woburn</td>\n    </tr>\n    <tr>\n      <th>4</th>\n      <td>M1H\\n</td>\n      <td>Scarborough\\n</td>\n      <td>Cedarbrae, Cedarbrae, Cedarbrae, Cedarbrae, Ce...</td>\n    </tr>\n  </tbody>\n</table>\n</div>",
                        "text/plain": "  PostalCode        Borough                                       Neighborhood\n0      M1B\\n  Scarborough\\n  Malvern, Rouge, Malvern, Rouge, Malvern, Rouge...\n1      M1C\\n  Scarborough\\n  Rouge Hill, Port Union, Highland Creek, Rouge ...\n2      M1E\\n  Scarborough\\n  Guildwood, Morningside, West Hill, Guildwood, ...\n3      M1G\\n  Scarborough\\n             Woburn, Woburn, Woburn, Woburn, Woburn\n4      M1H\\n  Scarborough\\n  Cedarbrae, Cedarbrae, Cedarbrae, Cedarbrae, Ce..."
                    },
                    "execution_count": 25,
                    "metadata": {},
                    "output_type": "execute_result"
                }
            ],
            "source": "print(df2.shape)\ndf2.head()"
        },
        {
            "cell_type": "code",
            "execution_count": 37,
            "metadata": {},
            "outputs": [],
            "source": "df2.to_csv('toronto.csv', index=False)\n"
        },
        {
            "cell_type": "markdown",
            "metadata": {},
            "source": "##### Getting Geographical Coordinates"
        },
        {
            "cell_type": "code",
            "execution_count": 26,
            "metadata": {},
            "outputs": [
                {
                    "name": "stdout",
                    "output_type": "stream",
                    "text": "Requirement already satisfied: geocoder in /opt/conda/envs/Python36/lib/python3.6/site-packages (1.38.1)\nRequirement already satisfied: six in /opt/conda/envs/Python36/lib/python3.6/site-packages (from geocoder) (1.12.0)\nRequirement already satisfied: ratelim in /opt/conda/envs/Python36/lib/python3.6/site-packages (from geocoder) (0.1.6)\nRequirement already satisfied: requests in /opt/conda/envs/Python36/lib/python3.6/site-packages (from geocoder) (2.21.0)\nRequirement already satisfied: click in /opt/conda/envs/Python36/lib/python3.6/site-packages (from geocoder) (7.0)\nRequirement already satisfied: future in /opt/conda/envs/Python36/lib/python3.6/site-packages (from geocoder) (0.17.1)\nRequirement already satisfied: decorator in /opt/conda/envs/Python36/lib/python3.6/site-packages (from ratelim->geocoder) (4.3.2)\nRequirement already satisfied: idna<2.9,>=2.5 in /opt/conda/envs/Python36/lib/python3.6/site-packages (from requests->geocoder) (2.8)\nRequirement already satisfied: certifi>=2017.4.17 in /opt/conda/envs/Python36/lib/python3.6/site-packages (from requests->geocoder) (2020.6.20)\nRequirement already satisfied: chardet<3.1.0,>=3.0.2 in /opt/conda/envs/Python36/lib/python3.6/site-packages (from requests->geocoder) (3.0.4)\nRequirement already satisfied: urllib3<1.25,>=1.21.1 in /opt/conda/envs/Python36/lib/python3.6/site-packages (from requests->geocoder) (1.24.1)\n"
                }
            ],
            "source": "!pip install geocoder"
        },
        {
            "cell_type": "code",
            "execution_count": 27,
            "metadata": {},
            "outputs": [],
            "source": "import numpy as np\nimport geocoder"
        },
        {
            "cell_type": "code",
            "execution_count": 28,
            "metadata": {},
            "outputs": [
                {
                    "data": {
                        "text/plain": "[43.70909000000006, -79.36409999999995]"
                    },
                    "execution_count": 28,
                    "metadata": {},
                    "output_type": "execute_result"
                }
            ],
            "source": "def get_latilong(postal_code):\n    lati_long_coords = None\n    while(lati_long_coords is None):\n        g = geocoder.arcgis('{}, Toronto, Ontario'.format(postal_code))\n        lati_long_coords = g.latlng\n    return lati_long_coords\n    \nget_latilong('M4G')"
        },
        {
            "cell_type": "code",
            "execution_count": 38,
            "metadata": {},
            "outputs": [
                {
                    "data": {
                        "text/html": "<div>\n<style scoped>\n    .dataframe tbody tr th:only-of-type {\n        vertical-align: middle;\n    }\n\n    .dataframe tbody tr th {\n        vertical-align: top;\n    }\n\n    .dataframe thead th {\n        text-align: right;\n    }\n</style>\n<table border=\"1\" class=\"dataframe\">\n  <thead>\n    <tr style=\"text-align: right;\">\n      <th></th>\n      <th>PostalCode</th>\n      <th>Borough</th>\n      <th>Neighborhood</th>\n    </tr>\n  </thead>\n  <tbody>\n    <tr>\n      <th>0</th>\n      <td>M1B\\n</td>\n      <td>Scarborough\\n</td>\n      <td>Malvern, Rouge, Malvern, Rouge, Malvern, Rouge...</td>\n    </tr>\n    <tr>\n      <th>1</th>\n      <td>M1C\\n</td>\n      <td>Scarborough\\n</td>\n      <td>Rouge Hill, Port Union, Highland Creek, Rouge ...</td>\n    </tr>\n    <tr>\n      <th>2</th>\n      <td>M1E\\n</td>\n      <td>Scarborough\\n</td>\n      <td>Guildwood, Morningside, West Hill, Guildwood, ...</td>\n    </tr>\n    <tr>\n      <th>3</th>\n      <td>M1G\\n</td>\n      <td>Scarborough\\n</td>\n      <td>Woburn, Woburn, Woburn, Woburn, Woburn</td>\n    </tr>\n    <tr>\n      <th>4</th>\n      <td>M1H\\n</td>\n      <td>Scarborough\\n</td>\n      <td>Cedarbrae, Cedarbrae, Cedarbrae, Cedarbrae, Ce...</td>\n    </tr>\n  </tbody>\n</table>\n</div>",
                        "text/plain": "  PostalCode        Borough                                       Neighborhood\n0      M1B\\n  Scarborough\\n  Malvern, Rouge, Malvern, Rouge, Malvern, Rouge...\n1      M1C\\n  Scarborough\\n  Rouge Hill, Port Union, Highland Creek, Rouge ...\n2      M1E\\n  Scarborough\\n  Guildwood, Morningside, West Hill, Guildwood, ...\n3      M1G\\n  Scarborough\\n             Woburn, Woburn, Woburn, Woburn, Woburn\n4      M1H\\n  Scarborough\\n  Cedarbrae, Cedarbrae, Cedarbrae, Cedarbrae, Ce..."
                    },
                    "execution_count": 38,
                    "metadata": {},
                    "output_type": "execute_result"
                }
            ],
            "source": "df = pd.read_csv('toronto.csv')\ndf.head()"
        },
        {
            "cell_type": "code",
            "execution_count": 43,
            "metadata": {},
            "outputs": [],
            "source": "postal_code = df['PostalCode']    \ncoord = [ get_latilong(postal_code) for postal_code in postal_code.tolist() ]\ndf_coord = pd.DataFrame(coord, columns=['Latitude', 'Longitude'])\ndf['Latitude'] = df_coord['Latitude']\ndf['Longitude'] = df_coord['Longitude']"
        },
        {
            "cell_type": "code",
            "execution_count": 45,
            "metadata": {
                "scrolled": true
            },
            "outputs": [
                {
                    "data": {
                        "text/html": "<div>\n<style scoped>\n    .dataframe tbody tr th:only-of-type {\n        vertical-align: middle;\n    }\n\n    .dataframe tbody tr th {\n        vertical-align: top;\n    }\n\n    .dataframe thead th {\n        text-align: right;\n    }\n</style>\n<table border=\"1\" class=\"dataframe\">\n  <thead>\n    <tr style=\"text-align: right;\">\n      <th></th>\n      <th>PostalCode</th>\n      <th>Borough</th>\n      <th>Neighborhood</th>\n      <th>Latitude</th>\n      <th>Longitude</th>\n    </tr>\n  </thead>\n  <tbody>\n    <tr>\n      <th>0</th>\n      <td>M1B\\n</td>\n      <td>Scarborough\\n</td>\n      <td>Malvern, Rouge, Malvern, Rouge, Malvern, Rouge...</td>\n      <td>43.81153</td>\n      <td>-79.19552</td>\n    </tr>\n    <tr>\n      <th>1</th>\n      <td>M1C\\n</td>\n      <td>Scarborough\\n</td>\n      <td>Rouge Hill, Port Union, Highland Creek, Rouge ...</td>\n      <td>43.78564</td>\n      <td>-79.15871</td>\n    </tr>\n    <tr>\n      <th>2</th>\n      <td>M1E\\n</td>\n      <td>Scarborough\\n</td>\n      <td>Guildwood, Morningside, West Hill, Guildwood, ...</td>\n      <td>43.76575</td>\n      <td>-79.17520</td>\n    </tr>\n    <tr>\n      <th>3</th>\n      <td>M1G\\n</td>\n      <td>Scarborough\\n</td>\n      <td>Woburn, Woburn, Woburn, Woburn, Woburn</td>\n      <td>43.76820</td>\n      <td>-79.21761</td>\n    </tr>\n    <tr>\n      <th>4</th>\n      <td>M1H\\n</td>\n      <td>Scarborough\\n</td>\n      <td>Cedarbrae, Cedarbrae, Cedarbrae, Cedarbrae, Ce...</td>\n      <td>43.76969</td>\n      <td>-79.23944</td>\n    </tr>\n    <tr>\n      <th>5</th>\n      <td>M1J\\n</td>\n      <td>Scarborough\\n</td>\n      <td>Scarborough Village, Scarborough Village, Scar...</td>\n      <td>43.74309</td>\n      <td>-79.23526</td>\n    </tr>\n    <tr>\n      <th>6</th>\n      <td>M1K\\n</td>\n      <td>Scarborough\\n</td>\n      <td>Kennedy Park, Ionview, East Birchmount Park, K...</td>\n      <td>43.72861</td>\n      <td>-79.26367</td>\n    </tr>\n    <tr>\n      <th>7</th>\n      <td>M1L\\n</td>\n      <td>Scarborough\\n</td>\n      <td>Golden Mile, Clairlea, Oakridge, Golden Mile, ...</td>\n      <td>43.71406</td>\n      <td>-79.28412</td>\n    </tr>\n    <tr>\n      <th>8</th>\n      <td>M1M\\n</td>\n      <td>Scarborough\\n</td>\n      <td>Cliffside, Cliffcrest, Scarborough Village Wes...</td>\n      <td>43.72360</td>\n      <td>-79.23496</td>\n    </tr>\n    <tr>\n      <th>9</th>\n      <td>M1N\\n</td>\n      <td>Scarborough\\n</td>\n      <td>Birch Cliff, Cliffside West, Birch Cliff, Clif...</td>\n      <td>43.69539</td>\n      <td>-79.26194</td>\n    </tr>\n    <tr>\n      <th>10</th>\n      <td>M1P\\n</td>\n      <td>Scarborough\\n</td>\n      <td>Dorset Park, Wexford Heights, Scarborough Town...</td>\n      <td>43.75998</td>\n      <td>-79.26837</td>\n    </tr>\n    <tr>\n      <th>11</th>\n      <td>M1R\\n</td>\n      <td>Scarborough\\n</td>\n      <td>Wexford, Maryvale, Wexford, Maryvale, Wexford,...</td>\n      <td>43.75071</td>\n      <td>-79.30056</td>\n    </tr>\n    <tr>\n      <th>12</th>\n      <td>M1S\\n</td>\n      <td>Scarborough\\n</td>\n      <td>Agincourt, Agincourt, Agincourt, Agincourt, Ag...</td>\n      <td>43.79394</td>\n      <td>-79.26711</td>\n    </tr>\n    <tr>\n      <th>13</th>\n      <td>M1T\\n</td>\n      <td>Scarborough\\n</td>\n      <td>Clarks Corners, Tam O'Shanter, Sullivan, Clark...</td>\n      <td>43.78473</td>\n      <td>-79.29937</td>\n    </tr>\n    <tr>\n      <th>14</th>\n      <td>M1V\\n</td>\n      <td>Scarborough\\n</td>\n      <td>Milliken, Agincourt North, Steeles East, L'Amo...</td>\n      <td>43.81781</td>\n      <td>-79.28024</td>\n    </tr>\n    <tr>\n      <th>15</th>\n      <td>M1W\\n</td>\n      <td>Scarborough\\n</td>\n      <td>Steeles West, L'Amoreaux West, Steeles West, L...</td>\n      <td>43.80052</td>\n      <td>-79.32074</td>\n    </tr>\n    <tr>\n      <th>16</th>\n      <td>M1X\\n</td>\n      <td>Scarborough\\n</td>\n      <td>Upper Rouge, Upper Rouge, Upper Rouge, Upper R...</td>\n      <td>43.83422</td>\n      <td>-79.21670</td>\n    </tr>\n    <tr>\n      <th>17</th>\n      <td>M2H\\n</td>\n      <td>North York\\n</td>\n      <td>Hillcrest Village, Hillcrest Village, Hillcres...</td>\n      <td>43.80285</td>\n      <td>-79.35621</td>\n    </tr>\n    <tr>\n      <th>18</th>\n      <td>M2J\\n</td>\n      <td>North York\\n</td>\n      <td>Fairview, Henry Farm, Oriole, Fairview, Henry ...</td>\n      <td>43.78097</td>\n      <td>-79.34781</td>\n    </tr>\n    <tr>\n      <th>19</th>\n      <td>M2K\\n</td>\n      <td>North York\\n</td>\n      <td>Bayview Village, Bayview Village, Bayview Vill...</td>\n      <td>43.78102</td>\n      <td>-79.38060</td>\n    </tr>\n  </tbody>\n</table>\n</div>",
                        "text/plain": "   PostalCode        Borough  \\\n0       M1B\\n  Scarborough\\n   \n1       M1C\\n  Scarborough\\n   \n2       M1E\\n  Scarborough\\n   \n3       M1G\\n  Scarborough\\n   \n4       M1H\\n  Scarborough\\n   \n5       M1J\\n  Scarborough\\n   \n6       M1K\\n  Scarborough\\n   \n7       M1L\\n  Scarborough\\n   \n8       M1M\\n  Scarborough\\n   \n9       M1N\\n  Scarborough\\n   \n10      M1P\\n  Scarborough\\n   \n11      M1R\\n  Scarborough\\n   \n12      M1S\\n  Scarborough\\n   \n13      M1T\\n  Scarborough\\n   \n14      M1V\\n  Scarborough\\n   \n15      M1W\\n  Scarborough\\n   \n16      M1X\\n  Scarborough\\n   \n17      M2H\\n   North York\\n   \n18      M2J\\n   North York\\n   \n19      M2K\\n   North York\\n   \n\n                                         Neighborhood  Latitude  Longitude  \n0   Malvern, Rouge, Malvern, Rouge, Malvern, Rouge...  43.81153  -79.19552  \n1   Rouge Hill, Port Union, Highland Creek, Rouge ...  43.78564  -79.15871  \n2   Guildwood, Morningside, West Hill, Guildwood, ...  43.76575  -79.17520  \n3              Woburn, Woburn, Woburn, Woburn, Woburn  43.76820  -79.21761  \n4   Cedarbrae, Cedarbrae, Cedarbrae, Cedarbrae, Ce...  43.76969  -79.23944  \n5   Scarborough Village, Scarborough Village, Scar...  43.74309  -79.23526  \n6   Kennedy Park, Ionview, East Birchmount Park, K...  43.72861  -79.26367  \n7   Golden Mile, Clairlea, Oakridge, Golden Mile, ...  43.71406  -79.28412  \n8   Cliffside, Cliffcrest, Scarborough Village Wes...  43.72360  -79.23496  \n9   Birch Cliff, Cliffside West, Birch Cliff, Clif...  43.69539  -79.26194  \n10  Dorset Park, Wexford Heights, Scarborough Town...  43.75998  -79.26837  \n11  Wexford, Maryvale, Wexford, Maryvale, Wexford,...  43.75071  -79.30056  \n12  Agincourt, Agincourt, Agincourt, Agincourt, Ag...  43.79394  -79.26711  \n13  Clarks Corners, Tam O'Shanter, Sullivan, Clark...  43.78473  -79.29937  \n14  Milliken, Agincourt North, Steeles East, L'Amo...  43.81781  -79.28024  \n15  Steeles West, L'Amoreaux West, Steeles West, L...  43.80052  -79.32074  \n16  Upper Rouge, Upper Rouge, Upper Rouge, Upper R...  43.83422  -79.21670  \n17  Hillcrest Village, Hillcrest Village, Hillcres...  43.80285  -79.35621  \n18  Fairview, Henry Farm, Oriole, Fairview, Henry ...  43.78097  -79.34781  \n19  Bayview Village, Bayview Village, Bayview Vill...  43.78102  -79.38060  "
                    },
                    "execution_count": 45,
                    "metadata": {},
                    "output_type": "execute_result"
                }
            ],
            "source": "df.head(20)"
        },
        {
            "cell_type": "code",
            "execution_count": null,
            "metadata": {},
            "outputs": [],
            "source": ""
        }
    ],
    "metadata": {
        "kernelspec": {
            "display_name": "Python 3.6",
            "language": "python",
            "name": "python3"
        },
        "language_info": {
            "codemirror_mode": {
                "name": "ipython",
                "version": 3
            },
            "file_extension": ".py",
            "mimetype": "text/x-python",
            "name": "python",
            "nbconvert_exporter": "python",
            "pygments_lexer": "ipython3",
            "version": "3.6.9"
        }
    },
    "nbformat": 4,
    "nbformat_minor": 1
}